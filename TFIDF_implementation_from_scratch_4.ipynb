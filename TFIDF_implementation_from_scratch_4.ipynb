{
  "nbformat": 4,
  "nbformat_minor": 0,
  "metadata": {
    "colab": {
      "name": "TFIDF implementation from scratch.ipynb",
      "provenance": [],
      "collapsed_sections": []
    },
    "kernelspec": {
      "name": "python3",
      "display_name": "Python 3"
    },
    "language_info": {
      "name": "python"
    }
  },
  "cells": [
    {
      "cell_type": "code",
      "metadata": {
        "id": "ZxSRJ4KT3OMw",
        "colab": {
          "base_uri": "https://localhost:8080/"
        },
        "outputId": "9b86d1f0-dbcd-4b09-efe3-601c1f0e92a0"
      },
      "source": [
        "# Corpus to be used for this assignment\n",
        "\n",
        "corpus = [\n",
        "     'this is the first document mostly',\n",
        "     'this document is the second document',\n",
        "     'and this is the third one',\n",
        "     'is this the first document here',\n",
        "]\n",
        "\n",
        "doc1 = \"this is the first document mostly\"\n",
        "doc2 = \"this document is the second document\"\n",
        "doc3 = \"and this is the third one\"\n",
        "doc4 = \"is this the first document here\"\n",
        "\n",
        "BOW1 = doc1.split(\" \")\n",
        "BOW2 = doc2.split(\" \")\n",
        "BOW3 = doc3.split(\" \")\n",
        "BOW4 = doc4.split(\" \")\n",
        "\n",
        "set_of_words = set(BOW1).union(set(BOW2)).union(set(BOW3)).union(set(BOW4))\n",
        "print(set_of_words)\n",
        "\n",
        "wdict1 = dict.fromkeys(set_of_words,0)\n",
        "wdict2 = dict.fromkeys(set_of_words,0)\n",
        "wdict3 = dict.fromkeys(set_of_words,0)\n",
        "wdict4 = dict.fromkeys(set_of_words,0)\n",
        "\n",
        "for word in BOW1:\n",
        "    wdict1[word] += 1\n",
        "for word in BOW2:\n",
        "    wdict2[word] += 1\n",
        "for word in BOW3:\n",
        "    wdict3[word] += 1\n",
        "for word in BOW4:\n",
        "    wdict4[word] += 1\n",
        "\n",
        "#print(wdict1)\n",
        "#print(wdict2)\n",
        "#print(wdict3)\n",
        "#print(wdict4)\n"
      ],
      "execution_count": 1,
      "outputs": [
        {
          "output_type": "stream",
          "text": [
            "{'and', 'the', 'here', 'one', 'first', 'this', 'third', 'is', 'mostly', 'document', 'second'}\n"
          ],
          "name": "stdout"
        }
      ]
    },
    {
      "cell_type": "code",
      "metadata": {
        "colab": {
          "base_uri": "https://localhost:8080/"
        },
        "id": "uwX3wIQZfVAL",
        "outputId": "e72193a5-43dd-40af-8c69-59c9f61a7cea"
      },
      "source": [
        "#Computing TF values\n",
        "#counting the number of sentences of words in Set of words\n",
        "tfdict = dict.fromkeys(set_of_words,0)\n",
        "\n",
        "for word in set_of_words:\n",
        "  count = 0\n",
        "  for doc in corpus:\n",
        "    if word in doc:\n",
        "      count += 1\n",
        "  tfdict[word] = count\n",
        "\n",
        "print(tfdict)"
      ],
      "execution_count": 2,
      "outputs": [
        {
          "output_type": "stream",
          "text": [
            "{'and': 1, 'the': 4, 'here': 1, 'one': 1, 'first': 2, 'this': 4, 'third': 1, 'is': 4, 'mostly': 1, 'document': 3, 'second': 1}\n"
          ],
          "name": "stdout"
        }
      ]
    },
    {
      "cell_type": "code",
      "metadata": {
        "colab": {
          "base_uri": "https://localhost:8080/"
        },
        "id": "sMMddiwwgxw_",
        "outputId": "e10348d6-8597-4e78-ac23-fdc7c595d12d"
      },
      "source": [
        "#Computing IDF values\n",
        "import numpy as np\n",
        "import math\n",
        "idfdict = dict.fromkeys(set_of_words,0)\n",
        "\n",
        "for word,count in tfdict.items():\n",
        "    idfdict[word] = np.log((4)/(count))\n",
        "idfdict\n",
        "\n",
        "print(idfdict)\n",
        "\n"
      ],
      "execution_count": 3,
      "outputs": [
        {
          "output_type": "stream",
          "text": [
            "{'and': 1.3862943611198906, 'the': 0.0, 'here': 1.3862943611198906, 'one': 1.3862943611198906, 'first': 0.6931471805599453, 'this': 0.0, 'third': 1.3862943611198906, 'is': 0.0, 'mostly': 1.3862943611198906, 'document': 0.28768207245178085, 'second': 1.3862943611198906}\n"
          ],
          "name": "stdout"
        }
      ]
    },
    {
      "cell_type": "code",
      "metadata": {
        "id": "aYoKXNsU3nhO",
        "colab": {
          "base_uri": "https://localhost:8080/"
        },
        "outputId": "989b44dc-b835-4165-c77e-65ea77c6dfc2"
      },
      "source": [
        "# Please implement this fucntion and write your code wherever asked. Do NOT change the code snippets provided by us.\n",
        "from collections import Counter\n",
        "def computeTFIDF (corpus):\n",
        "  ##############################################################\n",
        "  ####   YOUR CODE BELOW  as per the above instructions #######\n",
        "  ##############################################################\n",
        "  #computing TFIDF values\n",
        "\n",
        "  TFIDF = []\n",
        "  for doc in corpus:\n",
        "    doc = list(doc.split())\n",
        "    rep_of_words = Counter(doc)\n",
        "    tfidf_doc = []\n",
        "    for word in doc:\n",
        "      #assinging the idfdict values to IDF\n",
        "      IDF = idfdict[word]\n",
        "      #computing the TF values for the iterating words\n",
        "      TF = rep_of_words[word]/len(doc)\n",
        "      #calculating the tfidf values and rounding it to 2 decimal places\n",
        "      tfidf_words = (TF * IDF)\n",
        "      tfidf_doc.append(round((tfidf_words),2))\n",
        "    TFIDF.append(tfidf_doc)\n",
        "  TFIDF = np.array(TFIDF)\n",
        "  #printing TFIDF values\n",
        "  print(TFIDF)\n",
        "  return TFIDF\n",
        "tfidfs = computeTFIDF(corpus)\n",
        "\n",
        "\n",
        "\n",
        "  "
      ],
      "execution_count": 28,
      "outputs": [
        {
          "output_type": "stream",
          "text": [
            "[[0.   0.   0.   0.12 0.05 0.23]\n",
            " [0.   0.1  0.   0.   0.23 0.1 ]\n",
            " [0.23 0.   0.   0.   0.23 0.23]\n",
            " [0.   0.   0.   0.12 0.05 0.23]]\n"
          ],
          "name": "stdout"
        }
      ]
    },
    {
      "cell_type": "code",
      "metadata": {
        "colab": {
          "base_uri": "https://localhost:8080/"
        },
        "id": "UNSmpYR7hlTO",
        "outputId": "cdc80255-ec19-4ac2-9207-71d4478f09b2"
      },
      "source": [
        "computeTFIDF(corpus)"
      ],
      "execution_count": 29,
      "outputs": [
        {
          "output_type": "stream",
          "text": [
            "[[0.   0.   0.   0.12 0.05 0.23]\n",
            " [0.   0.1  0.   0.   0.23 0.1 ]\n",
            " [0.23 0.   0.   0.   0.23 0.23]\n",
            " [0.   0.   0.   0.12 0.05 0.23]]\n"
          ],
          "name": "stdout"
        },
        {
          "output_type": "execute_result",
          "data": {
            "text/plain": [
              "array([[0.  , 0.  , 0.  , 0.12, 0.05, 0.23],\n",
              "       [0.  , 0.1 , 0.  , 0.  , 0.23, 0.1 ],\n",
              "       [0.23, 0.  , 0.  , 0.  , 0.23, 0.23],\n",
              "       [0.  , 0.  , 0.  , 0.12, 0.05, 0.23]])"
            ]
          },
          "metadata": {},
          "execution_count": 29
        }
      ]
    },
    {
      "cell_type": "code",
      "metadata": {
        "id": "ZUYmXFjfu53i",
        "colab": {
          "base_uri": "https://localhost:8080/"
        },
        "outputId": "bbf2aed1-6c04-4fba-c3b2-76aae59c670c"
      },
      "source": [
        "###########################################\n",
        "## GRADER CELL: Do NOT Change this.\n",
        "# This cell will print \"Success\" if your implmentation of the computeTFIDF() is correct.\n",
        "# Else, it will print \"Failed\"\n",
        "###########################################\n",
        "import numpy as np\n",
        "\n",
        "# compute TF-IDF using the computeTFIDF() function\n",
        "X_custom = computeTFIDF(corpus)\n",
        "\n",
        "# Reference grader array - DO NOT MODIFY IT\n",
        "X_grader = np.array(\n",
        "    [[0, 0, 0, 0.12, 0.05, 0.23],\n",
        "     [0, 0.1, 0, 0, 0.23, 0.1],\n",
        "     [0.23, 0, 0, 0, 0.23, 0.23],\n",
        "     [0, 0, 0, 0.12, 0.05, 0.23]]\n",
        "     )\n",
        "\n",
        "# compare X_grader and X_custom\n",
        "comparison = ( X_grader == X_custom )\n",
        "isEqual = comparison.all()\n",
        "\n",
        "if isEqual:\n",
        "  print(\"******** Success ********\")\n",
        "else:\n",
        "  print(\"####### Failed #######\")\n",
        "  print(\"\\nX_grader = \\n\\n\", X_grader)\n",
        "  print(\"\\n\",\"*\"*50)\n",
        "  print(\"\\nX_custom = \\n\\n\", X_custom)\n"
      ],
      "execution_count": 30,
      "outputs": [
        {
          "output_type": "stream",
          "text": [
            "[[0.   0.   0.   0.12 0.05 0.23]\n",
            " [0.   0.1  0.   0.   0.23 0.1 ]\n",
            " [0.23 0.   0.   0.   0.23 0.23]\n",
            " [0.   0.   0.   0.12 0.05 0.23]]\n",
            "******** Success ********\n"
          ],
          "name": "stdout"
        }
      ]
    }
  ]
}